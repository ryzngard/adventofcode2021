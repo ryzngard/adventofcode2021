{
 "cells": [
  {
   "cell_type": "code",
   "execution_count": 1,
   "id": "536fa09e",
   "metadata": {},
   "outputs": [],
   "source": [
    "using System.Net;\n",
    "using System;\n",
    "using System.Net.Http;\n",
    "\n",
    "async Task<string> GetInputAsync(int day)\n",
    "{\n",
    "    var url = $\"https://adventofcode.com/2021/day/{day}/input\";\n",
    "    var secret = Environment.GetEnvironmentVariable(\"AOC_SECRET\");\n",
    "    if (string.IsNullOrEmpty(secret))\n",
    "    {\n",
    "        throw new InvalidOperationException(\"Need to set AOC_SECRET\");\n",
    "    }\n",
    "    \n",
    "    var cookieContainer = new CookieContainer();\n",
    "    using var handler = new HttpClientHandler() { CookieContainer = cookieContainer };\n",
    "    using var client = new HttpClient(handler);\n",
    "\n",
    "    var cookie = new Cookie(\"session\", secret);\n",
    "    cookie.Domain = \"adventofcode.com\";\n",
    "    cookieContainer.Add(cookie);\n",
    "    var result = await client.GetAsync(url);\n",
    "    return await result.Content.ReadAsStringAsync();\n",
    "}"
   ]
  },
  {
   "cell_type": "code",
   "execution_count": 13,
   "id": "96988bb9",
   "metadata": {},
   "outputs": [
    {
     "name": "stdout",
     "output_type": "stream",
     "text": [
      "Part 1: Incresed 1154 times\n",
      "Part 2: Incresed 1127 times\n"
     ]
    }
   ],
   "source": [
    "// Day 1\n",
    "\n",
    "var input = await GetInputAsync(1);\n",
    "var lines = input.Split(\"\\n\", StringSplitOptions.RemoveEmptyEntries);\n",
    "\n",
    "// Part 1\n",
    "var measurements = lines.Select(l => int.Parse(l)).ToArray();\n",
    "var increases = 0;\n",
    "for (var i = 1; i < measurements.Length; i++)\n",
    "{\n",
    "    if (measurements[i] > measurements[i-1])\n",
    "    {\n",
    "        increases++;\n",
    "    }\n",
    "}\n",
    "\n",
    "Console.WriteLine($\"Part 1: Incresed {increases} times\");\n",
    "\n",
    "// Part 2\n",
    "var windowSize = 3;\n",
    "increases = 0;\n",
    "for (var i = 1; i < measurements.Length - (windowSize - 1); i++)\n",
    "{\n",
    "    var thisWindow = measurements[i..(i+3)];\n",
    "    var previousWindow = measurements[(i-1)..(i+2)];\n",
    "    if (thisWindow.Sum() > previousWindow.Sum())\n",
    "    {\n",
    "        increases++;\n",
    "    }\n",
    "}\n",
    "\n",
    "Console.WriteLine($\"Part 2: Incresed {increases} times\");"
   ]
  },
  {
   "cell_type": "code",
   "execution_count": null,
   "id": "958a5f1f",
   "metadata": {},
   "outputs": [],
   "source": []
  },
  {
   "cell_type": "code",
   "execution_count": null,
   "id": "00f1ae42",
   "metadata": {},
   "outputs": [],
   "source": []
  }
 ],
 "metadata": {
  "interpreter": {
   "hash": "1288fd20884f4fc30c436921dcb80e8c45d9d508b36f2c25372912cd31d6e4e6"
  },
  "kernelspec": {
   "display_name": ".NET (C#)",
   "language": "C#",
   "name": ".net-csharp"
  },
  "language_info": {
   "file_extension": ".cs",
   "mimetype": "text/x-csharp",
   "name": "C#",
   "pygments_lexer": "csharp",
   "version": "8.0"
  }
 },
 "nbformat": 4,
 "nbformat_minor": 5
}
