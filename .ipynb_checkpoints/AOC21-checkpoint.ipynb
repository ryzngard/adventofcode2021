{
 "cells": [
  {
   "cell_type": "code",
   "execution_count": 2,
   "id": "536fa09e",
   "metadata": {},
   "outputs": [
    {
     "ename": "Unhandled Exception",
     "evalue": "(16,54): error CS1503: Argument 2: cannot convert from 'System.Net.Cookie' to 'string'",
     "output_type": "error",
     "traceback": [
      "(16,54): error CS1503: Argument 2: cannot convert from 'System.Net.Cookie' to 'string'"
     ]
    }
   ],
   "source": [
    "using System.Net;\n",
    "using System;\n",
    "\n",
    "string GetInput(int day)\n",
    "{\n",
    "    var url = $\"https://adventofcode.com/2021/day/{day}/input\";\n",
    "    var secret = Environment.GetEnvironmentVariable(\"AOC_SECRET\");\n",
    "    if (string.IsNullOrEmpty(secret))\n",
    "    {\n",
    "        throw new InvalidOperationException(\"Need to set AOC_SECRET\");\n",
    "    }\n",
    "    \n",
    "    using (var client = new WebClient())\n",
    "    {\n",
    "        var cookie = new Cookie(\"session\", secret);\n",
    "        client.Headers.Add(HttpRequestHeader.Cookie, cookie);\n",
    "        Console.WriteLine(url);\n",
    "        var data = client.DownloadData(url);\n",
    "        return \"\";\n",
    "    }\n",
    "}"
   ]
  },
  {
   "cell_type": "code",
   "execution_count": 14,
   "id": "96988bb9",
   "metadata": {},
   "outputs": [
    {
     "name": "stdout",
     "output_type": "stream",
     "text": [
      "https://adventofcode.com/2021/day/1/input\r\n"
     ]
    },
    {
     "ename": "Unhandled Exception",
     "evalue": "The remote server returned an error: (400) Bad Request.",
     "output_type": "error",
     "traceback": [
      "Unhandled Exception",
      "The remote server returned an error: (400) Bad Request.",
      "   at System.Net.HttpWebRequest.GetResponse()",
      "   at System.Net.WebClient.GetWebResponse(WebRequest request)",
      "   at System.Net.WebClient.DownloadBits(WebRequest request, Stream writeStream)",
      "   at System.Net.WebClient.DownloadDataInternal(Uri address, WebRequest& request)",
      "   at System.Net.WebClient.DownloadData(Uri address)",
      "   at System.Net.WebClient.DownloadData(String address)",
      "   at Submission#14.GetInput(Int32 day)",
      "   at Submission#15.<<Initialize>>d__0.MoveNext()",
      "--- End of stack trace from previous location where exception was thrown ---",
      "   at Microsoft.CodeAnalysis.Scripting.ScriptExecutionState.RunSubmissionsAsync[TResult](ImmutableArray`1 precedingExecutors, Func`2 currentExecutor, StrongBox`1 exceptionHolderOpt, Func`2 catchExceptionOpt, CancellationToken cancellationToken)"
     ]
    }
   ],
   "source": [
    "// Day 1\n",
    "\n",
    "var input = GetInput(1);\n",
    "var lines = input.Split(\"\\n\");"
   ]
  },
  {
   "cell_type": "code",
   "execution_count": null,
   "id": "958a5f1f",
   "metadata": {},
   "outputs": [],
   "source": []
  }
 ],
 "metadata": {
  "kernelspec": {
   "display_name": ".NET (C#)",
   "language": "C#",
   "name": ".net-csharp"
  },
  "language_info": {
   "file_extension": ".cs",
   "mimetype": "text/x-csharp",
   "name": "C#",
   "pygments_lexer": "csharp",
   "version": "8.0"
  }
 },
 "nbformat": 4,
 "nbformat_minor": 5
}
